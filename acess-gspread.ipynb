{
 "cells": [
  {
   "cell_type": "code",
   "execution_count": 1,
   "metadata": {},
   "outputs": [],
   "source": [
    "import gspread"
   ]
  },
  {
   "cell_type": "code",
   "execution_count": 4,
   "metadata": {},
   "outputs": [],
   "source": [
    "#import pyotp\n",
    "import gspread\n",
    "from oauth2client.service_account import ServiceAccountCredentials\n",
    "\n",
    "# Google Sheets API credentials\n",
    "scopes = ['https://www.googleapis.com/auth/spreadsheets']\n",
    "creds = ServiceAccountCredentials.from_json_keyfile_name('plexiform-dream-356203-0c93dbe2c11a.json', scopes)\n",
    "gc = gspread.authorize(creds)\n",
    "\n",
    "\n",
    "# Google Authenticator code\n",
    "#totp = pyotp.TOTP(\"your-2fa-secret\")\n",
    "#auth_code = totp.now()\n",
    "\n"
   ]
  },
  {
   "cell_type": "code",
   "execution_count": 5,
   "metadata": {},
   "outputs": [],
   "source": [
    "#ini untuk import-longue\n",
    "wbim = gc.open_by_key('1OaPIV2yDbbbNeOzsoghF6vAXSC96xDElAIwPeVKDZ9Y')\n",
    "wsstatus = wbim.worksheet('Internal_stok_status')"
   ]
  },
  {
   "cell_type": "code",
   "execution_count": 6,
   "metadata": {},
   "outputs": [],
   "source": [
    "# ini untuk gross sales\n",
    "wb = gc.open_by_key('1_uIMqG8-eABveRctUb9v8WF5LrFBmCMh720xN6oLPBU')\n",
    "wspush = wb.worksheet('push')\n",
    "wsref = wb.worksheet('Ref')\n",
    "wspull = wb.worksheet('pull')"
   ]
  },
  {
   "cell_type": "code",
   "execution_count": null,
   "metadata": {},
   "outputs": [],
   "source": []
  }
 ],
 "metadata": {
  "kernelspec": {
   "display_name": "Python 3",
   "language": "python",
   "name": "python3"
  },
  "language_info": {
   "codemirror_mode": {
    "name": "ipython",
    "version": 3
   },
   "file_extension": ".py",
   "mimetype": "text/x-python",
   "name": "python",
   "nbconvert_exporter": "python",
   "pygments_lexer": "ipython3",
   "version": "3.11.2"
  },
  "orig_nbformat": 4
 },
 "nbformat": 4,
 "nbformat_minor": 2
}
