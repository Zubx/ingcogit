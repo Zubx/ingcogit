{
 "cells": [
  {
   "cell_type": "code",
   "execution_count": 1,
   "metadata": {},
   "outputs": [],
   "source": [
    "import gspread\n",
    "import pandas as pd\n",
    "import requests\n",
    "from oauth2client.service_account import ServiceAccountCredentials\n",
    "import json\n"
   ]
  },
  {
   "cell_type": "code",
   "execution_count": 2,
   "metadata": {},
   "outputs": [],
   "source": [
    "# Google Sheets API credentials\n",
    "scopes = ['https://www.googleapis.com/auth/spreadsheets']\n",
    "creds = ServiceAccountCredentials.from_json_keyfile_name('plexiform-dream-356203-0c93dbe2c11a.json', scopes)\n",
    "gc = gspread.authorize(creds)\n",
    "\n",
    "# Opening JSON file\n",
    "f = open('secret.json')\n",
    "  \n",
    "# returns JSON object as \n",
    "# a dictionary\n",
    "jsonpass = json.load(f)"
   ]
  },
  {
   "cell_type": "code",
   "execution_count": 3,
   "metadata": {},
   "outputs": [],
   "source": [
    "jubelio = jsonpass[\"jubelio\"][0]\n",
    "#email_jub = (jubelio['email'])\n",
    "#pass_jub = (jubelio['password'])\n",
    "\n",
    "#jubelio credential\n",
    "email = (jubelio['email'])\n",
    "password = (jubelio['password'])\n",
    "login = requests.post(\"https://api2-lb.jubelio.com/login\", data={\"email\":email,\"password\":password}).json()\n",
    "header = {\"Authorization\" : login['token']}\n"
   ]
  },
  {
   "cell_type": "code",
   "execution_count": 4,
   "metadata": {},
   "outputs": [],
   "source": [
    "#ini untuk import-longue\n",
    "wbim = gc.open_by_key('1OaPIV2yDbbbNeOzsoghF6vAXSC96xDElAIwPeVKDZ9Y')\n",
    "wsstatus = wbim.worksheet('Internal_stok_status')\n",
    "# ini untuk gross sales\n",
    "#wb = gc.open_by_key('1_uIMqG8-eABveRctUb9v8WF5LrFBmCMh720xN6oLPBU')\n",
    "#wspush = wb.worksheet('push')\n",
    "#wsref = wb.worksheet('Ref')\n",
    "#wspull = wb.worksheet('pull')\n"
   ]
  },
  {
   "cell_type": "code",
   "execution_count": 5,
   "metadata": {},
   "outputs": [],
   "source": [
    "dfstatustok = []\n",
    "statusstok = wsstatus.get('A2:J')\n",
    "dfstatustok = pd.DataFrame.from_records(statusstok[1:],columns=statusstok[0])\n",
    "dfstatustok.to_csv('stok.csv', index=False)"
   ]
  }
 ],
 "metadata": {
  "kernelspec": {
   "display_name": "Python 3",
   "language": "python",
   "name": "python3"
  },
  "language_info": {
   "codemirror_mode": {
    "name": "ipython",
    "version": 3
   },
   "file_extension": ".py",
   "mimetype": "text/x-python",
   "name": "python",
   "nbconvert_exporter": "python",
   "pygments_lexer": "ipython3",
   "version": "3.11.2"
  },
  "orig_nbformat": 4
 },
 "nbformat": 4,
 "nbformat_minor": 2
}
