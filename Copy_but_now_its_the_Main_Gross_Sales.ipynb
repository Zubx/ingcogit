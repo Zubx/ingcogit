{
  "cells": [
    {
      "cell_type": "markdown",
      "metadata": {
        "colab_type": "text",
        "id": "view-in-github"
      },
      "source": [
        "<a href=\"https://colab.research.google.com/github/Zubx/ingcogit/blob/main/Copy_but_now_its_the_Main_Gross_Sales.ipynb\" target=\"_parent\"><img src=\"https://colab.research.google.com/assets/colab-badge.svg\" alt=\"Open In Colab\"/></a>"
      ]
    },
    {
      "cell_type": "code",
      "execution_count": 1,
      "metadata": {
        "id": "D_7BZsjH0QU3"
      },
      "outputs": [],
      "source": [
        "import gspread\n",
        "import pandas as pd\n",
        "import requests\n",
        "#from googleapiclient import discovery\n",
        "\n",
        "#### Authorize Google ###\n",
        "#from google.colab import auth\n",
        "#auth.authenticate_user()\n",
        "from google.auth import default\n",
        "creds, _ = default()\n",
        "\n",
        "gc = gspread.authorize(creds)\n"
      ]
    },
    {
      "cell_type": "markdown",
      "metadata": {
        "id": "Y-HX8cZD4s_x"
      },
      "source": [
        "### credential"
      ]
    },
    {
      "cell_type": "code",
      "execution_count": 2,
      "metadata": {
        "id": "c8Js7cOQ4KVW"
      },
      "outputs": [],
      "source": [
        "# ini untuk gross sales\n",
        "wb = gc.open_by_key('1_uIMqG8-eABveRctUb9v8WF5LrFBmCMh720xN6oLPBU')\n",
        "wspush = wb.worksheet('push')\n",
        "wsref = wb.worksheet('Ref')\n",
        "wspull = wb.worksheet('pull')\n",
        "\n",
        "# ini untuk stok live\n",
        "wbsl = gc.open_by_key('15mhxufZJaBMNtj7w92LQzYT0as6qVRj7Y8wFmPuhlwI')\n",
        "wsstok = wbsl.worksheet('Data')\n",
        "wsstokref = wbsl.worksheet('RefWH')\n",
        "wspushtoimp = wbsl.worksheet('push_to_import_lounge')\n",
        "\n",
        "#ini untuk import-longue\n",
        "wbim = gc.open_by_key('1OaPIV2yDbbbNeOzsoghF6vAXSC96xDElAIwPeVKDZ9Y')\n",
        "wsstatus = wbim.worksheet('Internal_stok_status')\n",
        "\n",
        "#ini untuk saz promo\n",
        "wbpromo = gc.open_by_key('1loCNzADsu_Rfl5grnETZvcZHusQUA59K8_JCRNO1ILc')\n",
        "wsstokpromo = wbpromo.worksheet('automatic_Internal_stok_status')\n",
        "\n",
        "\n",
        "\n",
        "#jubelio credential\n",
        "email = \"store.mgr@ingcotools.id\"\n",
        "password = \"password\"\n",
        "login = requests.post(\"https://api2-lb.jubelio.com/login\", data={\"email\":email,\"password\":password}).json()\n",
        "header = {\"Authorization\" : login['token']}"
      ]
    },
    {
      "cell_type": "markdown",
      "metadata": {
        "id": "KWwmVH80zsma"
      },
      "source": [
        "# jueblio monthly"
      ]
    },
    {
      "cell_type": "code",
      "execution_count": null,
      "metadata": {
        "id": "Awq_89-Qzpo2"
      },
      "outputs": [],
      "source": [
        "#Jubelio Monthly Sales\n",
        "ws23_jan = gc.open_by_key('1kqU6UZ6WI3bw9GKG9ErkJD-gVIIChU_0IuQOCWDup50').worksheet('Data')\n",
        "ws23_feb = gc.open_by_key('1m4rHdHp5zVQrdlqd4n0cVv0Njr5OcUsK_JU2S9aaIJw').worksheet('Data')\n",
        "ws23_mar = gc.open_by_key('1DzaTttC2MPbyvrZA0Q3yl-fyrT-LFRW7uyTOFE5-LZ4').worksheet('Data')\n",
        "#ws23_apr = gc.open_by_key('1f-JOl9sHRm5eRXpqG6v0KT6ccP6n1DM_XrsRwhugVUA').worksheet('Data')\n",
        "#ws23_mei = gc.open_by_key('1NR5SEQSstVtkjY080ME4H8XAf-u0lD7-s8eH0ZdmLik').worksheet('Data')\n",
        "#ws23_jun = gc.open_by_key('1TojX1ikeJb0k2NR6GT1-eFbAb88TQZnyIICp0VLYPKw').worksheet('Data')\n",
        "#ws23_jul = gc.open_by_key('19_dj-8T836-VY2JbmWuq0KRR7HbDBFFJIP4kdefQ9EI').worksheet('Data')\n",
        "#ws23_aug = gc.open_by_key('1O7ZsUm6j3SLHWVSQWMvXuetYX87_QdQ5rCERlqOWKfI').worksheet('Data')\n",
        "#ws23_sep = gc.open_by_key('1C8HhlHkK38SX6lBZ0l3KzlEm77MZG6W6f0WqI6joqgg').worksheet('Data')\n",
        "#ws23_okt = gc.open_by_key('1DYtyeeaqZlsvoFG3TynNGdRbb_qGwyR2i9ikZH22W1g').worksheet('Data')\n",
        "#ws23_nov = gc.open_by_key('1jSp1XLP8eKChQknYv6hdPyF_tZh3csMIKcuFjLKC7Tc').worksheet('Data')\n",
        "#ws23_des = gc.open_by_key('1lz3r9h3_eFNNaLOFncmCyhyl9pmCttKF_6f4CT3g9NQ').worksheet('Data')\n"
      ]
    },
    {
      "cell_type": "markdown",
      "metadata": {
        "id": "eIM5epsb6aG_"
      },
      "source": [
        "## test\n"
      ]
    },
    {
      "cell_type": "code",
      "execution_count": null,
      "metadata": {
        "colab": {
          "base_uri": "https://localhost:8080/"
        },
        "id": "bFhZYJz46ZRH",
        "outputId": "3bda1f5b-358b-4d8c-e5b4-aa9a65c7b4da"
      },
      "outputs": [
        {
          "data": {
            "application/vnd.google.colaboratory.intrinsic+json": {
              "type": "string"
            },
            "text/plain": [
              "'2021-12-06T07:13:01.759Z'"
            ]
          },
          "execution_count": 4,
          "metadata": {},
          "output_type": "execute_result"
        }
      ],
      "source": [
        "#getsales = requests.get(\"https://api2.jubelio.com/sales/orders/completed/?page=1&pageSize=200\",headers=header).json()\n",
        "#getsales\n",
        "getsales = requests.get(\"https://api2.jubelio.com/sales/orders/26946\",headers=header).json()\n",
        "getsales[\"created_date\"]"
      ]
    },
    {
      "cell_type": "markdown",
      "metadata": {
        "id": "YANPPIBOi_tg"
      },
      "source": [
        "## Gross Revenue ⛹"
      ]
    },
    {
      "cell_type": "markdown",
      "metadata": {
        "id": "Kk0F5OW0YrGt"
      },
      "source": [
        "### 1. list of Spreadsheet Document"
      ]
    },
    {
      "cell_type": "code",
      "execution_count": null,
      "metadata": {
        "id": "0MhYua4j8lq7"
      },
      "outputs": [],
      "source": [
        "rows1 = ws23_jan.get_all_values()\n",
        "dfjan = pd.DataFrame.from_records(rows1[1:],columns=rows1[0])"
      ]
    },
    {
      "cell_type": "code",
      "execution_count": null,
      "metadata": {
        "id": "ihiu1kLRI8RR"
      },
      "outputs": [],
      "source": [
        "rows2 = ws23_feb.get_all_values()\n",
        "dffeb = pd.DataFrame.from_records(rows2[1:],columns=rows2[0])"
      ]
    },
    {
      "cell_type": "code",
      "execution_count": null,
      "metadata": {
        "id": "Qn79F8hBJGA-"
      },
      "outputs": [],
      "source": [
        "rows3 = ws23_mar.get_all_values()\n",
        "dfmar = pd.DataFrame.from_records(rows3[1:],columns=rows3[0])"
      ]
    },
    {
      "cell_type": "code",
      "execution_count": null,
      "metadata": {
        "id": "zmvMyM3h1cHv"
      },
      "outputs": [],
      "source": [
        "#rows4 = ws23_apr.get('A1:N')\n",
        "#df04 = pd.DataFrame.from_records(rows4[1:],columns=rows4[0])\n",
        "#rows5 = ws23_mei.get('A1:N')\n",
        "#df05 = pd.DataFrame.from_records(rows5[1:],columns=rows5[0])\n",
        "#rows6 = ws23_jun.get('A1:N')\n",
        "#df06 = pd.DataFrame.from_records(rows6[1:],columns=rows6[0])\n",
        "#rows7 = ws23_jul.get('A1:N')\n",
        "#df07 = pd.DataFrame.from_records(rows7[1:],columns=rows7[0])\n",
        "#rows8 = ws23_aug.get('A1:N')\n",
        "#df08 = pd.DataFrame.from_records(rows8[1:],columns=rows8[0])\n",
        "#rows9 = ws23_sep.get('A1:N')\n",
        "#df09 = pd.DataFrame.from_records(rows9[1:],columns=rows9[0])\n",
        "#rows10 = ws23_okt.get('A1:N')\n",
        "#df10 = pd.DataFrame.from_records(rows10[1:],columns=rows10[0])\n",
        "#rows11 = ws23_nov.get('A1:N')\n",
        "#df11 = pd.DataFrame.from_records(rows11[1:],columns=rows11[0])\n",
        "#rows12 = ws23_des.get('A1:N')\n",
        "#df12 = pd.DataFrame.from_records(rows12[1:],columns=rows12[0])"
      ]
    },
    {
      "cell_type": "code",
      "execution_count": null,
      "metadata": {
        "id": "SqwtdO0Rd2JF"
      },
      "outputs": [],
      "source": [
        "colheader01 = dfjan.columns.tolist()\n",
        "lofList01 = dfjan.to_numpy().tolist()\n",
        "lofList02 = dffeb.to_numpy().tolist()\n",
        "lofList03 = dfmar.to_numpy().tolist()\n",
        "#list04 = df04.to_numpy().tolist()\n",
        "#list05 = df05.to_numpy().tolist()\n",
        "#list06 = df06.to_numpy().tolist()\n",
        "#list07 = df07.to_numpy().tolist()\n",
        "#list08 = df08.to_numpy().tolist()\n",
        "#list09 = df09.to_numpy().tolist()\n",
        "#list10 = df10.to_numpy().tolist()\n",
        "#list11 = df11.to_numpy().tolist()\n",
        "#list12 = df12.to_numpy().tolist()"
      ]
    },
    {
      "cell_type": "code",
      "execution_count": null,
      "metadata": {
        "colab": {
          "base_uri": "https://localhost:8080/"
        },
        "id": "s2OEPoJycVVI",
        "outputId": "2466f69f-57ad-4405-f757-3a07c6a55cec"
      },
      "outputs": [
        {
          "data": {
            "text/plain": [
              "{'spreadsheetId': '1_uIMqG8-eABveRctUb9v8WF5LrFBmCMh720xN6oLPBU',\n",
              " 'updatedRange': 'pull!A1:N4314',\n",
              " 'updatedRows': 4314,\n",
              " 'updatedColumns': 14,\n",
              " 'updatedCells': 60396}"
            ]
          },
          "execution_count": 10,
          "metadata": {},
          "output_type": "execute_result"
        }
      ],
      "source": [
        "dataToWrite01 = [colheader01] + lofList01 + lofList02 + lofList03 #+ list04 #+ list05 #+ list06 #+ list07 #+ list08 #+ list09 #+ list10 #+ list11 #+ list12\n",
        "wspull.update(\"A1\",dataToWrite01)"
      ]
    },
    {
      "cell_type": "code",
      "execution_count": null,
      "metadata": {
        "id": "mc25q9YBJhd0"
      },
      "outputs": [],
      "source": [
        "service = discovery.build('sheets', 'v4', credentials=creds)\n",
        "# The spreadsheet to apply the updates to.\n",
        "spreadsheet_id = '1_uIMqG8-eABveRctUb9v8WF5LrFBmCMh720xN6oLPBU'\n",
        "\n",
        "batch_update_spreadsheet_request_body = {\n",
        "    # A list of updates to apply to the spreadsheet.\n",
        "    # Requests will be applied in the order they are specified.\n",
        "    # If any request is not valid, no requests will be applied.\n",
        "    'requests': [\n",
        "                {\n",
        "            'findReplace' : {\n",
        "                'find' : \"'\",\n",
        "                'replacement' : \"\",\n",
        "                \"matchCase\": False,\n",
        "                \"matchEntireCell\": False,\n",
        "                \"searchByRegex\": False,\n",
        "                \"includeFormulas\": True,\n",
        "\n",
        "                #cellrange\n",
        "                \"range\" : {\n",
        "                    \"sheetId\": 1364180584\n",
        "                }\n",
        "\n",
        "            }\n",
        "        }\n",
        "    ],  # TODO: Update placeholder value.\n",
        "\n",
        "    # TODO: Add desired entries to the request body.\n",
        "}\n",
        "\n",
        "request = service.spreadsheets().batchUpdate(spreadsheetId=spreadsheet_id, body=batch_update_spreadsheet_request_body)\n",
        "response = request.execute()"
      ]
    },
    {
      "cell_type": "markdown",
      "metadata": {
        "id": "KDfpLmI4KhVF"
      },
      "source": [
        "### 2. push the result to Revenue Spreadsheets\n"
      ]
    },
    {
      "cell_type": "code",
      "execution_count": null,
      "metadata": {
        "id": "DPK40F6-KO9w"
      },
      "outputs": [],
      "source": [
        "ws_rev = gc.open_by_key('1Ps37uZqVFO_Ey1wTRnlMG_hIGEGRUoq0CBJBkW5C1FM').worksheet('sold')"
      ]
    },
    {
      "cell_type": "code",
      "execution_count": null,
      "metadata": {
        "id": "A1vRbHH-YjBr"
      },
      "outputs": [],
      "source": [
        "#rowtest = wspush.get('A1:B9')\n",
        "#dftest =  pd.DataFrame.from_records(rowtest[1:],columns=rowtest[0])\n",
        "#dftest"
      ]
    },
    {
      "cell_type": "code",
      "execution_count": null,
      "metadata": {
        "id": "y1vkxhZSsWLs"
      },
      "outputs": [],
      "source": [
        "dfpush = []"
      ]
    },
    {
      "cell_type": "code",
      "execution_count": null,
      "metadata": {
        "id": "VXc9KJUpKctY"
      },
      "outputs": [],
      "source": [
        "rowpush = wspush.get_all_values()\n",
        "dfpush = pd.DataFrame.from_records(rowpush[1:],columns=rowpush[0])"
      ]
    },
    {
      "cell_type": "code",
      "execution_count": null,
      "metadata": {
        "colab": {
          "base_uri": "https://localhost:8080/"
        },
        "id": "ZcHr1WzTK1DQ",
        "outputId": "7e56ba22-4554-40bf-a7a3-716c7f843f8a"
      },
      "outputs": [
        {
          "data": {
            "text/plain": [
              "{'spreadsheetId': '1Ps37uZqVFO_Ey1wTRnlMG_hIGEGRUoq0CBJBkW5C1FM',\n",
              " 'updatedRange': 'sold!A88591:J92902',\n",
              " 'updatedRows': 4312,\n",
              " 'updatedColumns': 10,\n",
              " 'updatedCells': 43120}"
            ]
          },
          "execution_count": 16,
          "metadata": {},
          "output_type": "execute_result"
        }
      ],
      "source": [
        "lofListsold = dfpush.to_numpy().tolist()\n",
        "ws_rev.update(\"A88591\",lofListsold)"
      ]
    },
    {
      "cell_type": "code",
      "execution_count": null,
      "metadata": {
        "colab": {
          "base_uri": "https://localhost:8080/"
        },
        "id": "k1fE8jrCtFeS",
        "outputId": "1358646e-a9b6-463e-8986-1f3f9d7be4d5"
      },
      "outputs": [
        {
          "data": {
            "text/plain": [
              "{'spreadsheetId': '1Ps37uZqVFO_Ey1wTRnlMG_hIGEGRUoq0CBJBkW5C1FM',\n",
              " 'replies': [{'findReplace': {'valuesChanged': 17248,\n",
              "    'rowsChanged': 4312,\n",
              "    'sheetsChanged': 1,\n",
              "    'occurrencesChanged': 17248}}]}"
            ]
          },
          "execution_count": 17,
          "metadata": {},
          "output_type": "execute_result"
        }
      ],
      "source": [
        "spreadsheet = gc.open_by_key('1Ps37uZqVFO_Ey1wTRnlMG_hIGEGRUoq0CBJBkW5C1FM')\n",
        "sheet_id = 879991253\n",
        "batch_update= {\n",
        "    # A list of updates to apply to the spreadsheet.\n",
        "    # Requests will be applied in the order they are specified.\n",
        "    # If any request is not valid, no requests will be applied.\n",
        "    'requests': [\n",
        "                {\n",
        "            'findReplace' : {\n",
        "                'find' : \"'\",\n",
        "                'replacement' : \"\",\n",
        "                \"matchCase\": False,\n",
        "                \"matchEntireCell\": False,\n",
        "                \"searchByRegex\": False,\n",
        "                \"includeFormulas\": True,\n",
        "\n",
        "                #cellrange\n",
        "                \"range\" : {\n",
        "                    \"sheetId\": sheet_id\n",
        "                }\n",
        "\n",
        "            }\n",
        "        }\n",
        "    ],  # TODO: Update placeholder value.\n",
        "\n",
        "    # TODO: Add desired entries to the request body.\n",
        "}\n",
        "spreadsheet.batch_update(batch_update)"
      ]
    },
    {
      "cell_type": "markdown",
      "metadata": {
        "id": "p0bSvQNkp5ru"
      },
      "source": [
        "## Jubelio Stok Live 🥈"
      ]
    },
    {
      "cell_type": "code",
      "execution_count": null,
      "metadata": {
        "id": "SeYDfDE-K0W4"
      },
      "outputs": [],
      "source": [
        "dfstok_live = pd.DataFrame(columns=['item_id','item_code','item_name','location_id','location_code','available'])"
      ]
    },
    {
      "cell_type": "code",
      "execution_count": null,
      "metadata": {
        "id": "cIA4-kI5LMRV"
      },
      "outputs": [],
      "source": [
        "url_inventory = \"https://api2-lb.jubelio.com/inventory/?pageSize=200\"\n",
        "stok_wh = []\n",
        "page = 1\n",
        "while True:\n",
        "    discover_api = (url_inventory + f\"&page={page}\")\n",
        "    #print(\"Requesting \", discover_api)\n",
        "    new_response = requests.get(discover_api,headers=header).json()\n",
        "    dataitem = new_response['data']\n",
        "\n",
        "    #do we find any activities ?\n",
        "    if len(dataitem) == 0:\n",
        "      #if not, exit the loop\n",
        "      break\n",
        "\n",
        "    #if we did find acitivities, add them\n",
        "    #to the list he, and move on next page\n",
        "    stok_wh.extend(dataitem)\n",
        "    page = page + 1"
      ]
    },
    {
      "cell_type": "code",
      "execution_count": null,
      "metadata": {
        "colab": {
          "base_uri": "https://localhost:8080/"
        },
        "id": "VAhdV92uLS60",
        "outputId": "2a69a4ca-a17a-40ad-9ba9-1174e159fc29"
      },
      "outputs": [],
      "source": [
        "for inventor in stok_wh:\n",
        "   item_id = inventor['item_id']\n",
        "   item_id = str(item_id)\n",
        "   item_code = inventor['item_code']\n",
        "   item_name = inventor['item_name']\n",
        "   item_name = str(item_name).replace(\"&\",\"\")\n",
        "   for nested in inventor['location_stocks']:\n",
        "     location_id = nested['location_id']\n",
        "     location_code = nested['location_code']\n",
        "     available = nested['available']\n",
        "     \n",
        "     dfstok_live = dfstok_live.append({'item_id':item_id,'item_code':item_code,'item_name':item_name,'location_id':location_id,'location_code':location_code,'available':available}, ignore_index=True)"
      ]
    },
    {
      "cell_type": "code",
      "execution_count": null,
      "metadata": {
        "colab": {
          "base_uri": "https://localhost:8080/"
        },
        "id": "NMsAGVNILg1e",
        "outputId": "b3fb4753-a698-4e01-f281-0693017d165b"
      },
      "outputs": [
        {
          "data": {
            "text/plain": [
              "{'spreadsheetId': '15mhxufZJaBMNtj7w92LQzYT0as6qVRj7Y8wFmPuhlwI',\n",
              " 'updatedRange': 'Data!A1:F20641',\n",
              " 'updatedRows': 20641,\n",
              " 'updatedColumns': 6,\n",
              " 'updatedCells': 122986}"
            ]
          },
          "execution_count": 21,
          "metadata": {},
          "output_type": "execute_result"
        }
      ],
      "source": [
        "dataToWrite = []\n",
        "#convert panda dataframe ke satu data body, ignore kolom header\n",
        "lofLists = dfstok_live.to_numpy().tolist()\n",
        "#recall kolom header dari panda dataframe\n",
        "colheaders = dfstok_live.columns.to_list()\n",
        "#combine antara header dan data body \n",
        "dataToWrite = [colheaders] + lofLists\n",
        "#final push ke \n",
        "wsstok.update(\"A1\",dataToWrite)"
      ]
    },
    {
      "cell_type": "code",
      "execution_count": null,
      "metadata": {
        "colab": {
          "base_uri": "https://localhost:8080/"
        },
        "id": "GEZ7IdKzL5W8",
        "outputId": "1ac4f4af-b948-408f-d9c7-6a79408b2367"
      },
      "outputs": [
        {
          "data": {
            "text/plain": [
              "{'spreadsheetId': '15mhxufZJaBMNtj7w92LQzYT0as6qVRj7Y8wFmPuhlwI',\n",
              " 'replies': [{'findReplace': {'valuesChanged': 22407,\n",
              "    'rowsChanged': 20640,\n",
              "    'sheetsChanged': 1,\n",
              "    'occurrencesChanged': 22407}}]}"
            ]
          },
          "execution_count": 22,
          "metadata": {},
          "output_type": "execute_result"
        }
      ],
      "source": [
        "stok_spreadsheets = gc.open_by_key('15mhxufZJaBMNtj7w92LQzYT0as6qVRj7Y8wFmPuhlwI')\n",
        "stok_sheet_id = 0\n",
        "batch_update= {\n",
        "    # A list of updates to apply to the spreadsheet.\n",
        "    # Requests will be applied in the order they are specified.\n",
        "    # If any request is not valid, no requests will be applied.\n",
        "    'requests': [\n",
        "                {\n",
        "            'findReplace' : {\n",
        "                'find' : \"'\",\n",
        "                'replacement' : \"\",\n",
        "                \"matchCase\": False,\n",
        "                \"matchEntireCell\": False,\n",
        "                \"searchByRegex\": False,\n",
        "                \"includeFormulas\": True,\n",
        "\n",
        "                #cellrange\n",
        "                \"range\" : {\n",
        "                    \"sheetId\": stok_sheet_id\n",
        "                }\n",
        "\n",
        "            }\n",
        "        }\n",
        "    ],  # TODO: Update placeholder value.\n",
        "\n",
        "    # TODO: Add desired entries to the request body.\n",
        "}\n",
        "stok_spreadsheets.batch_update(batch_update)"
      ]
    },
    {
      "cell_type": "markdown",
      "metadata": {
        "id": "JyVHZo80yIVa"
      },
      "source": [
        "Adds WH Id and Name"
      ]
    },
    {
      "cell_type": "code",
      "execution_count": null,
      "metadata": {
        "colab": {
          "base_uri": "https://localhost:8080/"
        },
        "id": "C5ojWGkWei44",
        "outputId": "619c9f63-dfa6-40a8-f8e9-a3ae1cd30353"
      },
      "outputs": [
        {
          "name": "stderr",
          "output_type": "stream",
          "text": [
            "<ipython-input-23-83db982aa486>:11: FutureWarning: The frame.append method is deprecated and will be removed from pandas in a future version. Use pandas.concat instead.\n",
            "  dflocation = dflocation.append({'location_id':location_id,'location_name':location_name}, ignore_index=True)\n",
            "<ipython-input-23-83db982aa486>:11: FutureWarning: The frame.append method is deprecated and will be removed from pandas in a future version. Use pandas.concat instead.\n",
            "  dflocation = dflocation.append({'location_id':location_id,'location_name':location_name}, ignore_index=True)\n",
            "<ipython-input-23-83db982aa486>:11: FutureWarning: The frame.append method is deprecated and will be removed from pandas in a future version. Use pandas.concat instead.\n",
            "  dflocation = dflocation.append({'location_id':location_id,'location_name':location_name}, ignore_index=True)\n",
            "<ipython-input-23-83db982aa486>:11: FutureWarning: The frame.append method is deprecated and will be removed from pandas in a future version. Use pandas.concat instead.\n",
            "  dflocation = dflocation.append({'location_id':location_id,'location_name':location_name}, ignore_index=True)\n",
            "<ipython-input-23-83db982aa486>:11: FutureWarning: The frame.append method is deprecated and will be removed from pandas in a future version. Use pandas.concat instead.\n",
            "  dflocation = dflocation.append({'location_id':location_id,'location_name':location_name}, ignore_index=True)\n",
            "<ipython-input-23-83db982aa486>:11: FutureWarning: The frame.append method is deprecated and will be removed from pandas in a future version. Use pandas.concat instead.\n",
            "  dflocation = dflocation.append({'location_id':location_id,'location_name':location_name}, ignore_index=True)\n",
            "<ipython-input-23-83db982aa486>:11: FutureWarning: The frame.append method is deprecated and will be removed from pandas in a future version. Use pandas.concat instead.\n",
            "  dflocation = dflocation.append({'location_id':location_id,'location_name':location_name}, ignore_index=True)\n",
            "<ipython-input-23-83db982aa486>:11: FutureWarning: The frame.append method is deprecated and will be removed from pandas in a future version. Use pandas.concat instead.\n",
            "  dflocation = dflocation.append({'location_id':location_id,'location_name':location_name}, ignore_index=True)\n",
            "<ipython-input-23-83db982aa486>:11: FutureWarning: The frame.append method is deprecated and will be removed from pandas in a future version. Use pandas.concat instead.\n",
            "  dflocation = dflocation.append({'location_id':location_id,'location_name':location_name}, ignore_index=True)\n",
            "<ipython-input-23-83db982aa486>:11: FutureWarning: The frame.append method is deprecated and will be removed from pandas in a future version. Use pandas.concat instead.\n",
            "  dflocation = dflocation.append({'location_id':location_id,'location_name':location_name}, ignore_index=True)\n",
            "<ipython-input-23-83db982aa486>:11: FutureWarning: The frame.append method is deprecated and will be removed from pandas in a future version. Use pandas.concat instead.\n",
            "  dflocation = dflocation.append({'location_id':location_id,'location_name':location_name}, ignore_index=True)\n",
            "<ipython-input-23-83db982aa486>:11: FutureWarning: The frame.append method is deprecated and will be removed from pandas in a future version. Use pandas.concat instead.\n",
            "  dflocation = dflocation.append({'location_id':location_id,'location_name':location_name}, ignore_index=True)\n",
            "<ipython-input-23-83db982aa486>:11: FutureWarning: The frame.append method is deprecated and will be removed from pandas in a future version. Use pandas.concat instead.\n",
            "  dflocation = dflocation.append({'location_id':location_id,'location_name':location_name}, ignore_index=True)\n",
            "<ipython-input-23-83db982aa486>:11: FutureWarning: The frame.append method is deprecated and will be removed from pandas in a future version. Use pandas.concat instead.\n",
            "  dflocation = dflocation.append({'location_id':location_id,'location_name':location_name}, ignore_index=True)\n",
            "<ipython-input-23-83db982aa486>:11: FutureWarning: The frame.append method is deprecated and will be removed from pandas in a future version. Use pandas.concat instead.\n",
            "  dflocation = dflocation.append({'location_id':location_id,'location_name':location_name}, ignore_index=True)\n",
            "<ipython-input-23-83db982aa486>:11: FutureWarning: The frame.append method is deprecated and will be removed from pandas in a future version. Use pandas.concat instead.\n",
            "  dflocation = dflocation.append({'location_id':location_id,'location_name':location_name}, ignore_index=True)\n",
            "<ipython-input-23-83db982aa486>:11: FutureWarning: The frame.append method is deprecated and will be removed from pandas in a future version. Use pandas.concat instead.\n",
            "  dflocation = dflocation.append({'location_id':location_id,'location_name':location_name}, ignore_index=True)\n",
            "<ipython-input-23-83db982aa486>:11: FutureWarning: The frame.append method is deprecated and will be removed from pandas in a future version. Use pandas.concat instead.\n",
            "  dflocation = dflocation.append({'location_id':location_id,'location_name':location_name}, ignore_index=True)\n",
            "<ipython-input-23-83db982aa486>:11: FutureWarning: The frame.append method is deprecated and will be removed from pandas in a future version. Use pandas.concat instead.\n",
            "  dflocation = dflocation.append({'location_id':location_id,'location_name':location_name}, ignore_index=True)\n",
            "<ipython-input-23-83db982aa486>:11: FutureWarning: The frame.append method is deprecated and will be removed from pandas in a future version. Use pandas.concat instead.\n",
            "  dflocation = dflocation.append({'location_id':location_id,'location_name':location_name}, ignore_index=True)\n",
            "<ipython-input-23-83db982aa486>:11: FutureWarning: The frame.append method is deprecated and will be removed from pandas in a future version. Use pandas.concat instead.\n",
            "  dflocation = dflocation.append({'location_id':location_id,'location_name':location_name}, ignore_index=True)\n"
          ]
        }
      ],
      "source": [
        "dflocation = pd.DataFrame(columns=['location_id','location_name'])\n",
        "url_location = \"https://api2-lb.jubelio.com/locations/?pageSize=200\"\n",
        "page = 1\n",
        "location_api = (url_location + f\"&page={page}\")\n",
        "location_response = requests.get(location_api,headers=header).json()\n",
        "#location_response['data']\n",
        "for wh in location_response['data']:\n",
        "  location_id = wh[\"location_id\"]\n",
        "  location_name = wh['location_name']\n",
        "\n",
        "  dflocation = dflocation.append({'location_id':location_id,'location_name':location_name}, ignore_index=True)\n",
        "\n"
      ]
    },
    {
      "cell_type": "code",
      "execution_count": null,
      "metadata": {
        "colab": {
          "base_uri": "https://localhost:8080/"
        },
        "id": "Al61uOcG5aIc",
        "outputId": "d1d06aa2-63e4-457d-ef74-cd5db8bd17db"
      },
      "outputs": [
        {
          "data": {
            "text/plain": [
              "{'spreadsheetId': '15mhxufZJaBMNtj7w92LQzYT0as6qVRj7Y8wFmPuhlwI',\n",
              " 'updatedRange': 'RefWH!A1:B22',\n",
              " 'updatedRows': 22,\n",
              " 'updatedColumns': 2,\n",
              " 'updatedCells': 44}"
            ]
          },
          "execution_count": 24,
          "metadata": {},
          "output_type": "execute_result"
        }
      ],
      "source": [
        "dataToWritewh = []\n",
        "#convert panda dataframe ke satu data body, ignore kolom header\n",
        "lofListswh = dflocation.to_numpy().tolist()\n",
        "#recall kolom header dari panda dataframe\n",
        "colheaderswh = dflocation.columns.to_list()\n",
        "#combine antara header dan data body \n",
        "dataToWritewh = [colheaderswh] + lofListswh\n",
        "#final push ke \n",
        "wsstokref.update(\"A1\",dataToWritewh)"
      ]
    },
    {
      "cell_type": "markdown",
      "metadata": {
        "id": "9rlCYgiNYpnR"
      },
      "source": [
        "## Push Live Stok to Import longue ✈"
      ]
    },
    {
      "cell_type": "markdown",
      "metadata": {
        "id": "wgzmqWYU1XsA"
      },
      "source": [
        "### Get the data"
      ]
    },
    {
      "cell_type": "code",
      "execution_count": null,
      "metadata": {
        "id": "nTu_EvUxyMDL"
      },
      "outputs": [],
      "source": [
        "listpushkeimport1 = []\n",
        "listpushkeimport2 = []\n",
        "listpushkeimport3 = []\n",
        "#Stok Gudang Offline\n",
        "kolomstok = wspushtoimp.get('A2:G')\n",
        "dfkolomstok =  pd.DataFrame.from_records(kolomstok[1:],columns=kolomstok[0])\n",
        "listpushkeimport1 = dfkolomstok.to_numpy().tolist()  #ini list offline\n",
        "#Stok gudang Online\n",
        "kolomonline = wspushtoimp.get('R2:R')\n",
        "dfkolomonline =  pd.DataFrame.from_records(kolomonline[1:],columns=kolomonline[0])\n",
        "listpushkeimport2 = dfkolomonline.to_numpy().tolist() #ini list online\n",
        "#Stok gudang Buffer\n",
        "kolombuffer = wspushtoimp.get('AA2:AA')\n",
        "dfkolombuffer =  pd.DataFrame.from_records(kolombuffer[1:],columns=kolombuffer[0])\n",
        "listpushkeimport3 = dfkolombuffer.to_numpy().tolist() #ini list buffer\n"
      ]
    },
    {
      "cell_type": "markdown",
      "metadata": {
        "id": "aj2FWPPq4Ufw"
      },
      "source": [
        "push ke import longue"
      ]
    },
    {
      "cell_type": "code",
      "execution_count": null,
      "metadata": {
        "colab": {
          "base_uri": "https://localhost:8080/"
        },
        "id": "1zcJ0ygg4T3R",
        "outputId": "730f721c-62ca-44e3-e7db-55f368c49ef1"
      },
      "outputs": [
        {
          "data": {
            "text/plain": [
              "{'spreadsheetId': '1OaPIV2yDbbbNeOzsoghF6vAXSC96xDElAIwPeVKDZ9Y',\n",
              " 'updatedRange': 'Internal_stok_status!I3:I858',\n",
              " 'updatedRows': 856,\n",
              " 'updatedColumns': 1,\n",
              " 'updatedCells': 856}"
            ]
          },
          "execution_count": 26,
          "metadata": {},
          "output_type": "execute_result"
        }
      ],
      "source": [
        "#Push ke kolom A~G dulu alias Offline\n",
        "wsstatus.update('A3',listpushkeimport1)\n",
        "#Push ke kolom H alias Online\n",
        "wsstatus.update('H3',listpushkeimport2)\n",
        "#push ke kolom I alias buffer\n",
        "wsstatus.update('I3',listpushkeimport3)"
      ]
    },
    {
      "cell_type": "markdown",
      "metadata": {
        "id": "x842yzNE5wEH"
      },
      "source": [
        "rapiin data type format biar bisa di pivot & formula\n"
      ]
    },
    {
      "cell_type": "code",
      "execution_count": null,
      "metadata": {
        "colab": {
          "base_uri": "https://localhost:8080/"
        },
        "id": "BoZBtc-Z5vkr",
        "outputId": "67ef4b22-b271-4b30-a69f-398440d7182f"
      },
      "outputs": [
        {
          "data": {
            "text/plain": [
              "{'spreadsheetId': '1OaPIV2yDbbbNeOzsoghF6vAXSC96xDElAIwPeVKDZ9Y',\n",
              " 'replies': [{'findReplace': {'valuesChanged': 5992,\n",
              "    'rowsChanged': 856,\n",
              "    'sheetsChanged': 1,\n",
              "    'occurrencesChanged': 5992}}]}"
            ]
          },
          "execution_count": 27,
          "metadata": {},
          "output_type": "execute_result"
        }
      ],
      "source": [
        "stoklive_sheet_id = 24189978\n",
        "batch_update1= {\n",
        "    # A list of updates to apply to the spreadsheet.\n",
        "    # Requests will be applied in the order they are specified.\n",
        "    # If any request is not valid, no requests will be applied.\n",
        "    'requests': [\n",
        "                {\n",
        "            'findReplace' : {\n",
        "                'find' : \"'\",\n",
        "                'replacement' : \"\",\n",
        "                \"matchCase\": False,\n",
        "                \"matchEntireCell\": False,\n",
        "                \"searchByRegex\": False,\n",
        "                \"includeFormulas\": True,\n",
        "\n",
        "                #cellrange\n",
        "                \"range\" : {\n",
        "                    \"sheetId\": stoklive_sheet_id,\n",
        "                    \"startRowIndex\": 2,\n",
        "                    \"startColumnIndex\": 2,\n",
        "                    \"endColumnIndex\": 9\n",
        "                }\n",
        "\n",
        "            }\n",
        "        }\n",
        "    ],  # TODO: Update placeholder value.\n",
        "\n",
        "    # TODO: Add desired entries to the request body.\n",
        "}\n",
        "wbim.batch_update(batch_update1)"
      ]
    },
    {
      "cell_type": "markdown",
      "metadata": {
        "id": "FZdQmnyq0-Lj"
      },
      "source": [
        "## Saz Promo"
      ]
    },
    {
      "cell_type": "code",
      "execution_count": 12,
      "metadata": {
        "colab": {
          "base_uri": "https://localhost:8080/"
        },
        "id": "we_Bi96dDzp7",
        "outputId": "1f39393c-5786-4e5a-ddda-a425d92e1b4f"
      },
      "outputs": [
        {
          "data": {
            "text/plain": [
              "{'spreadsheetId': '1loCNzADsu_Rfl5grnETZvcZHusQUA59K8_JCRNO1ILc',\n",
              " 'updatedRange': 'automatic_Internal_stok_status!A2:M912',\n",
              " 'updatedRows': 859,\n",
              " 'updatedColumns': 13,\n",
              " 'updatedCells': 10288}"
            ]
          },
          "execution_count": 12,
          "metadata": {},
          "output_type": "execute_result"
        }
      ],
      "source": [
        "rowpromo = wsstatus.get('A2:O')\n",
        "dfpromo = pd.DataFrame.from_records(rowpromo[1:],columns=rowpromo[0])\n",
        "liststok_status = dfpromo.to_numpy().tolist()\n",
        "colheader = dfpromo.columns.tolist() # ambil headernya\n",
        "liststok_status01 = [colheader] + liststok_status #satuin header sama body\n",
        "wsstokpromo.update(\"A2\",liststok_status01) #push ke spreadsheet"
      ]
    },
    {
      "cell_type": "code",
      "execution_count": 16,
      "metadata": {
        "id": "b1-2ZA1qikQv"
      },
      "outputs": [],
      "source": [
        "#csv_string = dfpromo.to_csv(index=False)\n",
        "#url_stok = "
      ]
    },
    {
      "cell_type": "markdown",
      "metadata": {
        "id": "HbZpx5n-xE7s"
      },
      "source": [
        "# Agrega"
      ]
    },
    {
      "cell_type": "code",
      "execution_count": null,
      "metadata": {
        "id": "jFSAhR8f5iFL"
      },
      "outputs": [],
      "source": [
        "#yearly\n",
        "wby = gc.open_by_key('1YFW6GWDY1pkkNF14ahqR6xPtw6vgI2WnW7Og4mUXv_k')\n",
        "wssrvcharge = wby.worksheet('service charge')\n",
        "# ini untuk gross sales\n",
        "wb = gc.open_by_key('1yoqHueF9vlZnzS0cSlXpdbnTCcTmDBEghFKIhFEVDx4')\n",
        "wspvt0 = wb.worksheet('Pivot0')\n",
        "wspvt1 = wb.worksheet('Pivot1')\n",
        "wssht1 = wb.worksheet('Sheet1')\n",
        "#laporan tokopedia bulanan\n",
        "ws23_jan_tokped = gc.open_by_key('1IpuJSvp9TKDFqRIl2rf5bpz_ybUtgZwylRCINRvq5F8').worksheet('Laporan Penjualan')\n",
        "ws23_feb_tokped = gc.open_by_key('1v5mpaVlYl3SqRklzDr_a8GgTNZdxnnE7CEw7T08SM40').worksheet('Laporan Penjualan')\n",
        "#ws23_mar_tokped = gc.open_by_key().worksheet('Laporan Penjualan')\n",
        "#visitor bulanan\n",
        "wbvisitall_tokped = gc.open_by_key('1zQcQQwhIrb2NIBmEGxxIGZDnO1LDICdIM1xS69qc5mM')\n",
        "wsvisitall = wbvisitall_tokped.worksheet('data')\n",
        "wsvisitorjan_tokped = gc.open_by_key('11AF7bsMylS3yq7jjJoL_0805vhS-aBMTxnld7-q-0Vk').worksheet('Data')\n",
        "wsvisitorfeb_tokped = gc.open_by_key('1VvMjiEFTHfSveOkAf_pmGWJ_bYScX4K_-s7FwzLRoso').worksheet('Data')\n",
        "#promo DM\n",
        "wbpromodm = gc.open_by_key('1loCNzADsu_Rfl5grnETZvcZHusQUA59K8_JCRNO1ILc')\n",
        "wstraffic = wbpromodm.worksheet('traffic_goes_here') "
      ]
    },
    {
      "cell_type": "markdown",
      "metadata": {
        "id": "7-KC1HtnBQn3"
      },
      "source": [
        "## Tokopedia Laporan Penjualan"
      ]
    },
    {
      "cell_type": "markdown",
      "metadata": {
        "id": "M5HXi3jnVQYc"
      },
      "source": [
        "### pull data and calculate"
      ]
    },
    {
      "cell_type": "code",
      "execution_count": null,
      "metadata": {
        "id": "1mCNF30j6zvJ"
      },
      "outputs": [],
      "source": [
        "#tokopedia januari\n",
        "kolomstok = ws23_jan_tokped.get('B5:AP')\n",
        "dfkolomstok =  pd.DataFrame.from_records(kolomstok[1:],columns=kolomstok[0])\n",
        "listpushkeimport1 = dfkolomstok.to_numpy().tolist()\n",
        "#tokopedia februari\n",
        "kolomonline = ws23_feb_tokped.get('B5:AP')\n",
        "dfkolomonline =  pd.DataFrame.from_records(kolomonline[1:],columns=kolomonline[0])\n",
        "listpushkeimport2 = dfkolomonline.to_numpy().tolist()\n",
        "#tokopedia Maret\n",
        "#kolombuffer = wspushtoimp.get('A5:AA')\n",
        "#dfkolombuffer =  pd.DataFrame.from_records(kolombuffer[1:],columns=kolombuffer[0])\n",
        "#listpushkeimport3 = dfkolombuffer.to_numpy().tolist() #ini list buffer\n",
        "push_aing = listpushkeimport1 + listpushkeimport2"
      ]
    },
    {
      "cell_type": "code",
      "execution_count": null,
      "metadata": {
        "colab": {
          "base_uri": "https://localhost:8080/"
        },
        "id": "CWgtZEvjOHsC",
        "outputId": "daae49c1-a825-4d7c-dd3a-54b3acea0f89"
      },
      "outputs": [
        {
          "data": {
            "text/plain": [
              "{'spreadsheetId': '1yoqHueF9vlZnzS0cSlXpdbnTCcTmDBEghFKIhFEVDx4',\n",
              " 'updatedRange': 'Sheet1!A2125:AO2895',\n",
              " 'updatedRows': 771,\n",
              " 'updatedColumns': 41,\n",
              " 'updatedCells': 31611}"
            ]
          },
          "execution_count": 31,
          "metadata": {},
          "output_type": "execute_result"
        }
      ],
      "source": [
        "#Push ke kolom A~G dulu alias Offline\n",
        "wssht1.update('A2125',push_aing)"
      ]
    },
    {
      "cell_type": "code",
      "execution_count": null,
      "metadata": {
        "colab": {
          "base_uri": "https://localhost:8080/"
        },
        "id": "_cMHiY0dOIsG",
        "outputId": "8a21c706-7d2b-4352-9363-4cb086b7c2eb"
      },
      "outputs": [
        {
          "data": {
            "text/plain": [
              "{'spreadsheetId': '1yoqHueF9vlZnzS0cSlXpdbnTCcTmDBEghFKIhFEVDx4',\n",
              " 'replies': [{'findReplace': {'valuesChanged': 8735,\n",
              "    'rowsChanged': 771,\n",
              "    'sheetsChanged': 1,\n",
              "    'occurrencesChanged': 8735}}]}"
            ]
          },
          "execution_count": 32,
          "metadata": {},
          "output_type": "execute_result"
        }
      ],
      "source": [
        "stoklive_sheet_id = 0\n",
        "batch_update1= {\n",
        "    'requests': [\n",
        "                {\n",
        "            'findReplace' : {\n",
        "                'find' : \"'\",\n",
        "                'replacement' : \"\",\n",
        "                \"matchCase\": False,\n",
        "                \"matchEntireCell\": False,\n",
        "                \"searchByRegex\": False,\n",
        "                \"includeFormulas\": True,\n",
        "                #cellrange\n",
        "                \"range\" : {\n",
        "                    \"sheetId\": stoklive_sheet_id,\n",
        "                    \"startRowIndex\": 2,\n",
        "                    \"startColumnIndex\": 0,\n",
        "                    \"endColumnIndex\": 35\n",
        "                }\n",
        "\n",
        "            }\n",
        "        }\n",
        "    ],  # TODO: Update placeholder value.\n",
        "}\n",
        "wb.batch_update(batch_update1)"
      ]
    },
    {
      "cell_type": "markdown",
      "metadata": {
        "id": "6nXeYTxYVYto"
      },
      "source": [
        "### push to yearly"
      ]
    },
    {
      "cell_type": "code",
      "execution_count": null,
      "metadata": {
        "id": "z_oVQVTSWCUj"
      },
      "outputs": [],
      "source": [
        "kolomsrv = wspvt0.get('A2:N')\n",
        "dfkolomsrv = pd.DataFrame.from_records(kolomsrv[1:],columns=kolomsrv[0])\n",
        "listpushkeyearly = dfkolomsrv.to_numpy().tolist()"
      ]
    },
    {
      "cell_type": "code",
      "execution_count": null,
      "metadata": {
        "colab": {
          "base_uri": "https://localhost:8080/"
        },
        "id": "MS7HMcwXWmN8",
        "outputId": "00c4f97e-208b-402c-8eec-ad2bee81481b"
      },
      "outputs": [
        {
          "data": {
            "text/plain": [
              "{'spreadsheetId': '1YFW6GWDY1pkkNF14ahqR6xPtw6vgI2WnW7Og4mUXv_k',\n",
              " 'updatedRange': \"'service charge'!A2:N421\",\n",
              " 'updatedRows': 420,\n",
              " 'updatedColumns': 14,\n",
              " 'updatedCells': 2982}"
            ]
          },
          "execution_count": 34,
          "metadata": {},
          "output_type": "execute_result"
        }
      ],
      "source": [
        "wssrvcharge.update('A2',listpushkeyearly)"
      ]
    },
    {
      "cell_type": "code",
      "execution_count": null,
      "metadata": {
        "colab": {
          "base_uri": "https://localhost:8080/"
        },
        "id": "5OieaORoXUMr",
        "outputId": "182727a4-3237-4846-9776-86b7980e24ad"
      },
      "outputs": [
        {
          "data": {
            "text/plain": [
              "{'spreadsheetId': '1YFW6GWDY1pkkNF14ahqR6xPtw6vgI2WnW7Og4mUXv_k',\n",
              " 'replies': [{'findReplace': {'valuesChanged': 2520,\n",
              "    'rowsChanged': 420,\n",
              "    'sheetsChanged': 1,\n",
              "    'occurrencesChanged': 2520}}]}"
            ]
          },
          "execution_count": 35,
          "metadata": {},
          "output_type": "execute_result"
        }
      ],
      "source": [
        "sht_id = 1203473211\n",
        "batch_update2= {\n",
        "    'requests': [\n",
        "                {\n",
        "            'findReplace' : {\n",
        "                'find' : \"'\",\n",
        "                'replacement' : \"\",\n",
        "                \"matchCase\": False,\n",
        "                \"matchEntireCell\": False,\n",
        "                \"searchByRegex\": False,\n",
        "                \"includeFormulas\": True,\n",
        "                #cellrange\n",
        "                \"range\" : {\n",
        "                    \"sheetId\": sht_id,\n",
        "                }\n",
        "\n",
        "            }\n",
        "        }\n",
        "    ],  # TODO: Update placeholder value.\n",
        "}\n",
        "wby.batch_update(batch_update2)"
      ]
    },
    {
      "cell_type": "markdown",
      "metadata": {
        "id": "bW94CvXlKSwJ"
      },
      "source": [
        "## Visitor Tokopedia"
      ]
    },
    {
      "cell_type": "code",
      "execution_count": null,
      "metadata": {
        "colab": {
          "base_uri": "https://localhost:8080/"
        },
        "id": "Mfb2EpIgKXkC",
        "outputId": "18586aa7-373b-4642-f08c-5fa045bffd77"
      },
      "outputs": [
        {
          "data": {
            "text/plain": [
              "{'spreadsheetId': '1zQcQQwhIrb2NIBmEGxxIGZDnO1LDICdIM1xS69qc5mM',\n",
              " 'updatedRange': 'data!A260023:K282882',\n",
              " 'updatedRows': 22860,\n",
              " 'updatedColumns': 11,\n",
              " 'updatedCells': 251460}"
            ]
          },
          "execution_count": 36,
          "metadata": {},
          "output_type": "execute_result"
        }
      ],
      "source": [
        "#Get monthly data\n",
        "#Januari\n",
        "visjan23 = wsvisitorjan_tokped.get('A1:K')\n",
        "dfvisjan23 =  pd.DataFrame.from_records(visjan23[1:],columns=visjan23[0])\n",
        "listpushvisjan = dfvisjan23.to_numpy().tolist()\n",
        "#Februari\n",
        "visfeb23 = wsvisitorfeb_tokped.get('A1:K')\n",
        "dfvisfeb23 =  pd.DataFrame.from_records(visfeb23[1:],columns=visfeb23[0])\n",
        "listpushvisfeb = dfvisfeb23.to_numpy().tolist()\n",
        "\n",
        "\n",
        "#select only date,sku,name,product view,ID,DMpromo,Grup #after df is created, just select the column\n",
        "listpushvis = listpushvisjan + listpushvisfeb\n",
        "#simple, and append the row #A260023\n",
        "wsvisitall.update('A260023',listpushvis)\n",
        "#data is ready\n",
        "\n"
      ]
    },
    {
      "cell_type": "code",
      "execution_count": null,
      "metadata": {
        "colab": {
          "base_uri": "https://localhost:8080/"
        },
        "id": "YsJvjTBnA4oT",
        "outputId": "4f205a3c-0613-437a-aa95-ec662a0fedc7"
      },
      "outputs": [
        {
          "data": {
            "text/plain": [
              "{'spreadsheetId': '1zQcQQwhIrb2NIBmEGxxIGZDnO1LDICdIM1xS69qc5mM',\n",
              " 'replies': [{'findReplace': {'valuesChanged': 182880,\n",
              "    'rowsChanged': 22860,\n",
              "    'sheetsChanged': 1,\n",
              "    'occurrencesChanged': 182880}}]}"
            ]
          },
          "execution_count": 37,
          "metadata": {},
          "output_type": "execute_result"
        }
      ],
      "source": [
        "shtvis_id = 0\n",
        "batch_updatevis= {\n",
        "    'requests': [\n",
        "                {\n",
        "            'findReplace' : {\n",
        "                'find' : \"'\",\n",
        "                'replacement' : \"\",\n",
        "                \"matchCase\": False,\n",
        "                \"matchEntireCell\": False,\n",
        "                \"searchByRegex\": False,\n",
        "                \"includeFormulas\": True,\n",
        "                #cellrange\n",
        "                \"range\" : {\n",
        "                    \"sheetId\": shtvis_id,\n",
        "                }\n",
        "\n",
        "            }\n",
        "        }\n",
        "    ],  # TODO: Update placeholder value.\n",
        "}\n",
        "wbvisitall_tokped.batch_update(batch_updatevis)"
      ]
    },
    {
      "cell_type": "code",
      "execution_count": null,
      "metadata": {
        "id": "zGSzWFuhL965"
      },
      "outputs": [],
      "source": [
        "visall = wsvisitall.get('A1:N')\n",
        "dfvisall = pd.DataFrame.from_records(visall[1:],columns=visall[0])\n"
      ]
    },
    {
      "cell_type": "code",
      "execution_count": null,
      "metadata": {
        "colab": {
          "base_uri": "https://localhost:8080/"
        },
        "id": "5fVZSag1MSaN",
        "outputId": "32d901ab-73d4-4bb7-b8a3-575905d8936c"
      },
      "outputs": [
        {
          "data": {
            "text/plain": [
              "{'spreadsheetId': '1loCNzADsu_Rfl5grnETZvcZHusQUA59K8_JCRNO1ILc',\n",
              " 'updatedRange': 'traffic_goes_here!A2:D282882',\n",
              " 'updatedRows': 282881,\n",
              " 'updatedColumns': 4,\n",
              " 'updatedCells': 1124333}"
            ]
          },
          "execution_count": 39,
          "metadata": {},
          "output_type": "execute_result"
        }
      ],
      "source": [
        "dfvisall_3col = dfvisall[['ID','Date','SKU','Produk Dilihat']]\n",
        "listvisall_3col = dfvisall_3col.to_numpy().tolist()\n",
        "wstraffic.update(\"A2\",listvisall_3col)"
      ]
    },
    {
      "cell_type": "code",
      "execution_count": null,
      "metadata": {
        "colab": {
          "base_uri": "https://localhost:8080/"
        },
        "id": "CPEcH1JKceqP",
        "outputId": "8cdf635b-4942-4294-8d04-b527422889a2"
      },
      "outputs": [
        {
          "data": {
            "text/plain": [
              "{'spreadsheetId': '1loCNzADsu_Rfl5grnETZvcZHusQUA59K8_JCRNO1ILc',\n",
              " 'replies': [{'findReplace': {'valuesChanged': 565762,\n",
              "    'rowsChanged': 282881,\n",
              "    'sheetsChanged': 1,\n",
              "    'occurrencesChanged': 565762}}]}"
            ]
          },
          "execution_count": 40,
          "metadata": {},
          "output_type": "execute_result"
        }
      ],
      "source": [
        "shtvis_id = 334524\n",
        "batch_updatepromo= {\n",
        "    'requests': [\n",
        "                {\n",
        "            'findReplace' : {\n",
        "                'find' : \"'\",\n",
        "                'replacement' : \"\",\n",
        "                \"matchCase\": False,\n",
        "                \"matchEntireCell\": False,\n",
        "                \"searchByRegex\": False,\n",
        "                \"includeFormulas\": True,\n",
        "                #cellrange\n",
        "                \"range\" : {\n",
        "                    \"sheetId\": shtvis_id,\n",
        "                }\n",
        "\n",
        "            }\n",
        "        }\n",
        "    ],  # TODO: Update placeholder value.\n",
        "}\n",
        "wbpromodm.batch_update(batch_updatepromo)"
      ]
    },
    {
      "cell_type": "markdown",
      "metadata": {
        "id": "q68hM5GInCG5"
      },
      "source": [
        "## Item Rotation"
      ]
    },
    {
      "cell_type": "code",
      "execution_count": null,
      "metadata": {
        "id": "IlF5zI1KpnHO"
      },
      "outputs": [],
      "source": [
        "wsrotasi_backend = gc.open_by_key('1zcAIJtOXtO0hBiZDONYWcvLGKmtK6ObyoZV3KvE4XNk').worksheet('all-qty')\n",
        "wbrotasi_ui = gc.open_by_key('1kZ9tm3dB5QuEgR2ucnAmZj_sUlmK83YjiwE6UkHOij8')\n",
        "wsrotasi_ui = wbrotasi_ui.worksheet('all-qty') "
      ]
    },
    {
      "cell_type": "code",
      "execution_count": null,
      "metadata": {
        "id": "hWSCD1f5pb1d"
      },
      "outputs": [],
      "source": [
        "rotatecol = wsrotasi_backend.get('A2:M')\n",
        "dfrotatecol =  pd.DataFrame.from_records(rotatecol[1:],columns=rotatecol[0])\n",
        "listrotatecol = dfrotatecol.to_numpy().tolist()"
      ]
    },
    {
      "cell_type": "code",
      "execution_count": null,
      "metadata": {
        "colab": {
          "base_uri": "https://localhost:8080/"
        },
        "id": "90upFdW8r9Ka",
        "outputId": "40971ed0-9c87-48c3-aa7a-936903172b17"
      },
      "outputs": [
        {
          "data": {
            "text/plain": [
              "{'spreadsheetId': '1kZ9tm3dB5QuEgR2ucnAmZj_sUlmK83YjiwE6UkHOij8',\n",
              " 'updatedRange': \"'all-qty'!A3:M537\",\n",
              " 'updatedRows': 535,\n",
              " 'updatedColumns': 13,\n",
              " 'updatedCells': 6955}"
            ]
          },
          "execution_count": 43,
          "metadata": {},
          "output_type": "execute_result"
        }
      ],
      "source": [
        "wsrotasi_ui.update(\"A3\",listrotatecol)"
      ]
    },
    {
      "cell_type": "code",
      "execution_count": null,
      "metadata": {
        "colab": {
          "base_uri": "https://localhost:8080/"
        },
        "id": "7C54fi0kso-c",
        "outputId": "b4a3e532-bff3-431d-e3f3-38a002ceacfe"
      },
      "outputs": [
        {
          "data": {
            "text/plain": [
              "{'spreadsheetId': '1kZ9tm3dB5QuEgR2ucnAmZj_sUlmK83YjiwE6UkHOij8',\n",
              " 'replies': [{'findReplace': {'valuesChanged': 5885,\n",
              "    'rowsChanged': 535,\n",
              "    'sheetsChanged': 1,\n",
              "    'occurrencesChanged': 5885}}]}"
            ]
          },
          "execution_count": 44,
          "metadata": {},
          "output_type": "execute_result"
        }
      ],
      "source": [
        "shtallqty = 1973841594\n",
        "batch_updateqty= {\n",
        "    'requests': [\n",
        "                {\n",
        "            'findReplace' : {\n",
        "                'find' : \"'\",\n",
        "                'replacement' : \"\",\n",
        "                \"matchCase\": False,\n",
        "                \"matchEntireCell\": False,\n",
        "                \"searchByRegex\": False,\n",
        "                \"includeFormulas\": True,\n",
        "                #cellrange\n",
        "                \"range\" : {\n",
        "                    \"sheetId\": shtallqty,\n",
        "                }\n",
        "\n",
        "            }\n",
        "        }\n",
        "    ],  # TODO: Update placeholder value.\n",
        "}\n",
        "wbrotasi_ui.batch_update(batch_updateqty)"
      ]
    },
    {
      "cell_type": "markdown",
      "metadata": {
        "id": "Zz34iY63BZeh"
      },
      "source": [
        "## item monitor"
      ]
    },
    {
      "cell_type": "code",
      "execution_count": null,
      "metadata": {
        "id": "IlcntadDjwOM"
      },
      "outputs": [],
      "source": [
        "#asal\n",
        "wbbkend_monitor = gc.open_by_key('1JlDhxt8121yAfcz6FIMY4LpCBKa9Q4H1Tz-dIc8bSow')\n",
        "wsbkend_new = wbbkend_monitor.worksheet('new')\n",
        "wsbkend_exist = wbbkend_monitor.worksheet('exist')\n",
        "\n",
        "\n",
        "# tujuan\n",
        "wbitem_monitor = gc.open_by_key('18bpwxZeE8EZeEH6YHLxAGaPkSYk1jBrfobIz9eQbHbc')\n",
        "wsnewitem = wbitem_monitor.worksheet('new_item')\n",
        "wsexisting = wbitem_monitor.worksheet('existing_item')"
      ]
    },
    {
      "cell_type": "code",
      "execution_count": null,
      "metadata": {
        "id": "Bc4p2EfcrfsL"
      },
      "outputs": [],
      "source": [
        "listmoni_newcol = []\n",
        "listmoni_existcol = []"
      ]
    },
    {
      "cell_type": "code",
      "execution_count": null,
      "metadata": {
        "colab": {
          "base_uri": "https://localhost:8080/"
        },
        "id": "TmNjP0d_lEay",
        "outputId": "fb681886-eba8-4a0d-adea-6eeaa79a224c"
      },
      "outputs": [
        {
          "data": {
            "text/plain": [
              "{'spreadsheetId': '18bpwxZeE8EZeEH6YHLxAGaPkSYk1jBrfobIz9eQbHbc',\n",
              " 'updatedRange': 'new_item!A3:O15',\n",
              " 'updatedRows': 13,\n",
              " 'updatedColumns': 15,\n",
              " 'updatedCells': 195}"
            ]
          },
          "execution_count": 47,
          "metadata": {},
          "output_type": "execute_result"
        }
      ],
      "source": [
        "moni_newcol = wsbkend_new.get('A1:O')\n",
        "dfmoni_newcol =  pd.DataFrame.from_records(moni_newcol[1:],columns=moni_newcol[0])\n",
        "listmoni_newcol = dfmoni_newcol.to_numpy().tolist()\n",
        "wsnewitem.update(\"A3\",listmoni_newcol)"
      ]
    },
    {
      "cell_type": "code",
      "execution_count": null,
      "metadata": {
        "colab": {
          "base_uri": "https://localhost:8080/"
        },
        "id": "YYeKUX4LmeYG",
        "outputId": "f9b12671-c225-44cf-c35d-7be1a801552f"
      },
      "outputs": [
        {
          "data": {
            "text/plain": [
              "{'spreadsheetId': '18bpwxZeE8EZeEH6YHLxAGaPkSYk1jBrfobIz9eQbHbc',\n",
              " 'updatedRange': 'existing_item!A3:V475',\n",
              " 'updatedRows': 473,\n",
              " 'updatedColumns': 22,\n",
              " 'updatedCells': 10406}"
            ]
          },
          "execution_count": 48,
          "metadata": {},
          "output_type": "execute_result"
        }
      ],
      "source": [
        "moni_existcol = wsbkend_exist.get('A1:V')\n",
        "dfmoni_existcol =  pd.DataFrame.from_records(moni_existcol[1:],columns=moni_existcol[0])\n",
        "listmoni_existcol = dfmoni_existcol.to_numpy().tolist()\n",
        "wsexisting.update(\"A3\",listmoni_existcol)"
      ]
    },
    {
      "cell_type": "code",
      "execution_count": null,
      "metadata": {
        "colab": {
          "base_uri": "https://localhost:8080/"
        },
        "id": "THSd0Gs9m7HK",
        "outputId": "9f04a028-0e48-40b5-d63a-a0b6d8db8a1d"
      },
      "outputs": [
        {
          "data": {
            "text/plain": [
              "{'spreadsheetId': '18bpwxZeE8EZeEH6YHLxAGaPkSYk1jBrfobIz9eQbHbc',\n",
              " 'replies': [{'findReplace': {'valuesChanged': 9355,\n",
              "    'rowsChanged': 473,\n",
              "    'sheetsChanged': 1,\n",
              "    'occurrencesChanged': 9355}}]}"
            ]
          },
          "execution_count": 49,
          "metadata": {},
          "output_type": "execute_result"
        }
      ],
      "source": [
        "sheets_new = 795209164\n",
        "sheets_exist = 1950898329\n",
        "batch_update_new = {\n",
        "    'requests': [\n",
        "                {\n",
        "            'findReplace' : {\n",
        "                'find' : \"'\",\n",
        "                'replacement' : \"\",\n",
        "                \"matchCase\": False,\n",
        "                \"matchEntireCell\": False,\n",
        "                \"searchByRegex\": False,\n",
        "                \"includeFormulas\": True,\n",
        "                #cellrange\n",
        "                \"range\" : {\n",
        "                    \"sheetId\": sheets_new,\n",
        "                }\n",
        "\n",
        "            }\n",
        "        }\n",
        "    ],  # TODO: Update placeholder value.\n",
        "}\n",
        "batch_update_exist = {\n",
        "    'requests': [\n",
        "                {\n",
        "            'findReplace' : {\n",
        "                'find' : \"'\",\n",
        "                'replacement' : \"\",\n",
        "                \"matchCase\": False,\n",
        "                \"matchEntireCell\": False,\n",
        "                \"searchByRegex\": False,\n",
        "                \"includeFormulas\": True,\n",
        "                #cellrange\n",
        "                \"range\" : {\n",
        "                    \"sheetId\": sheets_exist,\n",
        "                }\n",
        "\n",
        "            }\n",
        "        }\n",
        "    ],  # TODO: Update placeholder value.\n",
        "}\n",
        "wbitem_monitor.batch_update(batch_update_new)\n",
        "wbitem_monitor.batch_update(batch_update_exist)"
      ]
    },
    {
      "cell_type": "code",
      "execution_count": null,
      "metadata": {
        "colab": {
          "base_uri": "https://localhost:8080/"
        },
        "id": "8IB9qjiodykL",
        "outputId": "e98e4bed-479b-453b-efa5-6344d3b67e24"
      },
      "outputs": [
        {
          "data": {
            "text/plain": [
              "{'spreadsheetId': '18bpwxZeE8EZeEH6YHLxAGaPkSYk1jBrfobIz9eQbHbc',\n",
              " 'replies': [{}]}"
            ]
          },
          "execution_count": 50,
          "metadata": {},
          "output_type": "execute_result"
        }
      ],
      "source": [
        "wsnewitem.format(\"C3:C\", {\"numberFormat\":{'type':\"NUMBER\", 'pattern':\"0.0,, Juta\"}})\n",
        "wsexisting.format(\"C3:C\", {\"numberFormat\":{'type':\"NUMBER\", 'pattern':\"0.0,, Juta\"}})"
      ]
    }
  ],
  "metadata": {
    "colab": {
      "authorship_tag": "ABX9TyPRuwRASRa9lKHf5pz2D3oV",
      "collapsed_sections": [
        "Y-HX8cZD4s_x",
        "KWwmVH80zsma",
        "eIM5epsb6aG_",
        "YANPPIBOi_tg",
        "p0bSvQNkp5ru",
        "9rlCYgiNYpnR",
        "wgzmqWYU1XsA",
        "FZdQmnyq0-Lj",
        "HbZpx5n-xE7s",
        "7-KC1HtnBQn3",
        "6nXeYTxYVYto",
        "bW94CvXlKSwJ",
        "q68hM5GInCG5",
        "Zz34iY63BZeh"
      ],
      "include_colab_link": true,
      "provenance": []
    },
    "kernelspec": {
      "display_name": "Python 3",
      "name": "python3"
    },
    "language_info": {
      "name": "python"
    }
  },
  "nbformat": 4,
  "nbformat_minor": 0
}
