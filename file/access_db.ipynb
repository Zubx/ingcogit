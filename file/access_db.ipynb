{
 "cells": [
  {
   "cell_type": "code",
   "execution_count": 6,
   "metadata": {},
   "outputs": [
    {
     "name": "stdout",
     "output_type": "stream",
     "text": [
      "Error: connection to server at \"p-hidden-glade-49772332.ap-southeast-1.aws.neon.tech\" (52.220.170.93), port 5432 failed: ERROR:  password authentication failed for user 'Zubx'\n",
      "connection to server at \"p-hidden-glade-49772332.ap-southeast-1.aws.neon.tech\" (52.220.170.93), port 5432 failed: ERROR:  connection is insecure (try using `sslmode=require`)\n",
      "\n"
     ]
    }
   ],
   "source": [
    "import psycopg2\n",
    "from psycopg2 import OperationalError\n",
    "\n",
    "def connect_to_postgresql(database, user, password, host, port):\n",
    "    try:\n",
    "        # Create a connection to the PostgreSQL database\n",
    "        connection = psycopg2.connect(\n",
    "            database=database,\n",
    "            user=user,\n",
    "            password=password,\n",
    "            host=host,\n",
    "            port=port\n",
    "        )\n",
    "\n",
    "        # Create a cursor object to execute SQL commands\n",
    "        cursor = connection.cursor()\n",
    "\n",
    "        # Print a message indicating a successful connection\n",
    "        print(\"Connected to the PostgreSQL database!\")\n",
    "\n",
    "        # Close the cursor and connection when done\n",
    "        cursor.close()\n",
    "        connection.close()\n",
    "\n",
    "    except OperationalError as e:\n",
    "        print(f\"Error: {e}\")\n",
    "        # Handle the error here\n",
    "\n",
    "if __name__ == \"__main__\":\n",
    "    # Replace these values with your PostgreSQL connection details\n",
    "    db_name = \"ingco\"\n",
    "    db_user = \"Zubx\"\n",
    "    db_password = \"ytOG2k0MLdco\"\n",
    "    db_host = \"p-hidden-glade-49772332.ap-southeast-1.aws.neon.tech\"  # Change this to your database server's hostname or IP address\n",
    "    db_port = \"5432\"  # Default PostgreSQL port is 5432\n",
    "\n",
    "    connect_to_postgresql(db_name, db_user, db_password, db_host, db_port)\n"
   ]
  }
 ],
 "metadata": {
  "kernelspec": {
   "display_name": "Python 3",
   "language": "python",
   "name": "python3"
  },
  "language_info": {
   "codemirror_mode": {
    "name": "ipython",
    "version": 3
   },
   "file_extension": ".py",
   "mimetype": "text/x-python",
   "name": "python",
   "nbconvert_exporter": "python",
   "pygments_lexer": "ipython3",
   "version": "3.11.0"
  },
  "orig_nbformat": 4
 },
 "nbformat": 4,
 "nbformat_minor": 2
}
